{
 "cells": [
  {
   "cell_type": "code",
   "execution_count": 1,
   "metadata": {},
   "outputs": [
    {
     "name": "stderr",
     "output_type": "stream",
     "text": [
      "C:\\ProgramData\\Anaconda3\\lib\\site-packages\\gensim\\utils.py:1197: UserWarning: detected Windows; aliasing chunkize to chunkize_serial\n",
      "  warnings.warn(\"detected Windows; aliasing chunkize to chunkize_serial\")\n"
     ]
    }
   ],
   "source": [
    "\n",
    "import sys\n",
    "import numpy as np\n",
    "# add gensim source code fro this path\n",
    "#sys.path.insert(0, \"../../../\")\n",
    "\n",
    "# import modules & set up logging\n",
    "import gensim, logging\n",
    "\n",
    "logging.basicConfig(format='%(asctime)s : %(levelname)s : %(message)s', level=logging.INFO)\n",
    "                \n",
    "                "
   ]
  },
  {
   "cell_type": "markdown",
   "metadata": {},
   "source": [
    "## Load the embeddings learned "
   ]
  },
  {
   "cell_type": "code",
   "execution_count": null,
   "metadata": {
    "collapsed": true
   },
   "outputs": [],
   "source": []
  },
  {
   "cell_type": "code",
   "execution_count": 2,
   "metadata": {},
   "outputs": [
    {
     "name": "stderr",
     "output_type": "stream",
     "text": [
      "2018-05-15 19:24:21,088 : INFO : loading projection weights from ../output/embeddings_vocab_1501_ep_30_emb_100_hid_100_10_1500_test_bsg.txt\n",
      "2018-05-15 19:24:21,244 : INFO : loaded (1501, 100) matrix from ../output/embeddings_vocab_1501_ep_30_emb_100_hid_100_10_1500_test_bsg.txt\n"
     ]
    }
   ],
   "source": [
    "#embeddings_file=\"embeddings_full100_100_final.txt\"\n",
    "embeddings_file=\"../output/embeddings_final_40_100_bsg.txt\"\n",
    "#embeddings_file=\"../../ull_ed/practical-2/embeddings_final_50_100_hansards_bsg.txt\"\n",
    "#embeddings_file=\"../../ull_ed/practical-2/embeddings_vocab_1613_ep_50_100_hid_100_test_bsg.txt\"\n",
    "embeddings_file=\"../output/embeddings_vocab_1613_ep_20_100_hid_100_test_bsg.txt\"\n",
    "embeddings_file=\"../output/embeddings_vocab_1601_ep_40_emb_100_hid_100_1600_test_bsg_good_with_common.txt\"\n",
    "embeddings_file=\"../output/embeddings_vocab_1551_ep_10_emb_100_hid_100_1550_test_bsg.txt\"\n",
    "embeddings_file=\"../output/embeddings_vocab_1613_ep_20_100_hid_100_test_bsg.txt\"\n",
    "embeddings_file=\"../output/embeddings_vocab_1601_ep_2_emb_100_hid_100_1600_test_bsg.txt\"\n",
    "embeddings_file=\"../output/embeddings_vocab_1601_ep_40_emb_100_hid_100_1600_test_bsg_good_with_common.txt\"\n",
    "embeddings_file=\"../output/embeddings_vocab_1601_ep_30_emb_100_hid_100_1600_test_bsg.txt\"\n",
    "\n",
    "embeddings_file=\"../output/embeddings_vocab_1551_ep_30_emb_100_hid_100_1550_test_bsg.txt\"\n",
    "embeddings_file=\"../output/embeddings_vocab_1501_ep_30_emb_100_hid_100_10_1500_test_bsg.txt\"\n",
    "\n",
    "\n",
    "\n",
    "\n",
    "#embeddings_file=\"../output/embeddings_vocab_1401_ep_40_emb_100_hid_100_1400_test_bsg.txt\"\n",
    "#embeddings_file=\"../output/embeddings_vocab_1401_ep_2_emb_100_hid_100_1400_test_bsg.txt\"\n",
    "\n",
    "from gensim.models import KeyedVectors\n",
    "#word_vectors = KeyedVectors.load_word2vec_format('../../../ULL/data/bow2.words.bz2', binary=False)  # C text format\n",
    "word_vectors = KeyedVectors.load_word2vec_format(embeddings_file, binary=False)  # C binary format"
   ]
  },
  {
   "cell_type": "code",
   "execution_count": 3,
   "metadata": {},
   "outputs": [
    {
     "data": {
      "text/plain": [
       "<gensim.models.keyedvectors.Word2VecKeyedVectors at 0x273ff4ac2b0>"
      ]
     },
     "execution_count": 3,
     "metadata": {},
     "output_type": "execute_result"
    }
   ],
   "source": [
    "word_vectors\n"
   ]
  },
  {
   "cell_type": "code",
   "execution_count": 4,
   "metadata": {},
   "outputs": [
    {
     "name": "stdout",
     "output_type": "stream",
     "text": [
      "-0.13157088234221834\n"
     ]
    }
   ],
   "source": [
    "print(word_vectors.similarity('message', 'issue'))\n"
   ]
  },
  {
   "cell_type": "markdown",
   "metadata": {},
   "source": [
    "## Calculate similarity"
   ]
  },
  {
   "cell_type": "code",
   "execution_count": 5,
   "metadata": {},
   "outputs": [
    {
     "name": "stdout",
     "output_type": "stream",
     "text": [
      "-0.05642861832929085\n"
     ]
    }
   ],
   "source": [
    "print(word_vectors.similarity('disturbed', 'pervasive'))\n"
   ]
  },
  {
   "cell_type": "code",
   "execution_count": 10,
   "metadata": {},
   "outputs": [
    {
     "ename": "KeyError",
     "evalue": "'lavish'",
     "output_type": "error",
     "traceback": [
      "\u001b[1;31m---------------------------------------------------------------------------\u001b[0m",
      "\u001b[1;31mKeyError\u001b[0m                                  Traceback (most recent call last)",
      "\u001b[1;32m<ipython-input-10-836d375f7a52>\u001b[0m in \u001b[0;36m<module>\u001b[1;34m()\u001b[0m\n\u001b[0;32m      1\u001b[0m \u001b[1;31m#word_vectors.evaluate_word_pairs(\"../../../gensim/gensim/test/test_data/wordsim353.tsv\")\u001b[0m\u001b[1;33m\u001b[0m\u001b[1;33m\u001b[0m\u001b[0m\n\u001b[1;32m----> 2\u001b[1;33m \u001b[0mword_vectors\u001b[0m\u001b[1;33m.\u001b[0m\u001b[0mevaluate_word_pairs\u001b[0m\u001b[1;33m(\u001b[0m\u001b[1;34m\"../data/wordsim353.tsv\"\u001b[0m\u001b[1;33m,\u001b[0m \u001b[0mdummy4unknown\u001b[0m\u001b[1;33m=\u001b[0m\u001b[1;32mTrue\u001b[0m\u001b[1;33m,\u001b[0m \u001b[0mrestrict_vocab\u001b[0m\u001b[1;33m=\u001b[0m\u001b[1;32mTrue\u001b[0m\u001b[1;33m)\u001b[0m\u001b[1;33m\u001b[0m\u001b[0m\n\u001b[0m\u001b[0;32m      3\u001b[0m \u001b[1;33m\u001b[0m\u001b[0m\n",
      "\u001b[1;32mC:\\ProgramData\\Anaconda3\\lib\\site-packages\\gensim\\models\\keyedvectors.py\u001b[0m in \u001b[0;36mevaluate_word_pairs\u001b[1;34m(self, pairs, delimiter, restrict_vocab, case_insensitive, dummy4unknown)\u001b[0m\n\u001b[0;32m    974\u001b[0m         \u001b[0mOtherwise\u001b[0m \u001b[1;33m(\u001b[0m\u001b[0mdefault\u001b[0m \u001b[1;32mFalse\u001b[0m\u001b[1;33m)\u001b[0m\u001b[1;33m,\u001b[0m \u001b[0mthese\u001b[0m \u001b[0mpairs\u001b[0m \u001b[0mare\u001b[0m \u001b[0mskipped\u001b[0m \u001b[0mentirely\u001b[0m\u001b[1;33m.\u001b[0m\u001b[1;33m\u001b[0m\u001b[0m\n\u001b[0;32m    975\u001b[0m         \"\"\"\n\u001b[1;32m--> 976\u001b[1;33m         \u001b[0mok_vocab\u001b[0m \u001b[1;33m=\u001b[0m \u001b[1;33m[\u001b[0m\u001b[1;33m(\u001b[0m\u001b[0mw\u001b[0m\u001b[1;33m,\u001b[0m \u001b[0mself\u001b[0m\u001b[1;33m.\u001b[0m\u001b[0mvocab\u001b[0m\u001b[1;33m[\u001b[0m\u001b[0mw\u001b[0m\u001b[1;33m]\u001b[0m\u001b[1;33m)\u001b[0m \u001b[1;32mfor\u001b[0m \u001b[0mw\u001b[0m \u001b[1;32min\u001b[0m \u001b[0mself\u001b[0m\u001b[1;33m.\u001b[0m\u001b[0mindex2word\u001b[0m\u001b[1;33m[\u001b[0m\u001b[1;33m:\u001b[0m\u001b[0mrestrict_vocab\u001b[0m\u001b[1;33m]\u001b[0m\u001b[1;33m]\u001b[0m\u001b[1;33m\u001b[0m\u001b[0m\n\u001b[0m\u001b[0;32m    977\u001b[0m         \u001b[0mok_vocab\u001b[0m \u001b[1;33m=\u001b[0m \u001b[1;33m{\u001b[0m\u001b[0mw\u001b[0m\u001b[1;33m.\u001b[0m\u001b[0mupper\u001b[0m\u001b[1;33m(\u001b[0m\u001b[1;33m)\u001b[0m\u001b[1;33m:\u001b[0m \u001b[0mv\u001b[0m \u001b[1;32mfor\u001b[0m \u001b[0mw\u001b[0m\u001b[1;33m,\u001b[0m \u001b[0mv\u001b[0m \u001b[1;32min\u001b[0m \u001b[0mreversed\u001b[0m\u001b[1;33m(\u001b[0m\u001b[0mok_vocab\u001b[0m\u001b[1;33m)\u001b[0m\u001b[1;33m}\u001b[0m \u001b[1;32mif\u001b[0m \u001b[0mcase_insensitive\u001b[0m \u001b[1;32melse\u001b[0m \u001b[0mdict\u001b[0m\u001b[1;33m(\u001b[0m\u001b[0mok_vocab\u001b[0m\u001b[1;33m)\u001b[0m\u001b[1;33m\u001b[0m\u001b[0m\n\u001b[0;32m    978\u001b[0m \u001b[1;33m\u001b[0m\u001b[0m\n",
      "\u001b[1;32mC:\\ProgramData\\Anaconda3\\lib\\site-packages\\gensim\\models\\keyedvectors.py\u001b[0m in \u001b[0;36m<listcomp>\u001b[1;34m(.0)\u001b[0m\n\u001b[0;32m    974\u001b[0m         \u001b[0mOtherwise\u001b[0m \u001b[1;33m(\u001b[0m\u001b[0mdefault\u001b[0m \u001b[1;32mFalse\u001b[0m\u001b[1;33m)\u001b[0m\u001b[1;33m,\u001b[0m \u001b[0mthese\u001b[0m \u001b[0mpairs\u001b[0m \u001b[0mare\u001b[0m \u001b[0mskipped\u001b[0m \u001b[0mentirely\u001b[0m\u001b[1;33m.\u001b[0m\u001b[1;33m\u001b[0m\u001b[0m\n\u001b[0;32m    975\u001b[0m         \"\"\"\n\u001b[1;32m--> 976\u001b[1;33m         \u001b[0mok_vocab\u001b[0m \u001b[1;33m=\u001b[0m \u001b[1;33m[\u001b[0m\u001b[1;33m(\u001b[0m\u001b[0mw\u001b[0m\u001b[1;33m,\u001b[0m \u001b[0mself\u001b[0m\u001b[1;33m.\u001b[0m\u001b[0mvocab\u001b[0m\u001b[1;33m[\u001b[0m\u001b[0mw\u001b[0m\u001b[1;33m]\u001b[0m\u001b[1;33m)\u001b[0m \u001b[1;32mfor\u001b[0m \u001b[0mw\u001b[0m \u001b[1;32min\u001b[0m \u001b[0mself\u001b[0m\u001b[1;33m.\u001b[0m\u001b[0mindex2word\u001b[0m\u001b[1;33m[\u001b[0m\u001b[1;33m:\u001b[0m\u001b[0mrestrict_vocab\u001b[0m\u001b[1;33m]\u001b[0m\u001b[1;33m]\u001b[0m\u001b[1;33m\u001b[0m\u001b[0m\n\u001b[0m\u001b[0;32m    977\u001b[0m         \u001b[0mok_vocab\u001b[0m \u001b[1;33m=\u001b[0m \u001b[1;33m{\u001b[0m\u001b[0mw\u001b[0m\u001b[1;33m.\u001b[0m\u001b[0mupper\u001b[0m\u001b[1;33m(\u001b[0m\u001b[1;33m)\u001b[0m\u001b[1;33m:\u001b[0m \u001b[0mv\u001b[0m \u001b[1;32mfor\u001b[0m \u001b[0mw\u001b[0m\u001b[1;33m,\u001b[0m \u001b[0mv\u001b[0m \u001b[1;32min\u001b[0m \u001b[0mreversed\u001b[0m\u001b[1;33m(\u001b[0m\u001b[0mok_vocab\u001b[0m\u001b[1;33m)\u001b[0m\u001b[1;33m}\u001b[0m \u001b[1;32mif\u001b[0m \u001b[0mcase_insensitive\u001b[0m \u001b[1;32melse\u001b[0m \u001b[0mdict\u001b[0m\u001b[1;33m(\u001b[0m\u001b[0mok_vocab\u001b[0m\u001b[1;33m)\u001b[0m\u001b[1;33m\u001b[0m\u001b[0m\n\u001b[0;32m    978\u001b[0m \u001b[1;33m\u001b[0m\u001b[0m\n",
      "\u001b[1;31mKeyError\u001b[0m: 'lavish'"
     ]
    }
   ],
   "source": [
    "#word_vectors.evaluate_word_pairs(\"../../../gensim/gensim/test/test_data/wordsim353.tsv\")\n",
    "word_vectors.evaluate_word_pairs(\"../data/wordsim353.tsv\")\n",
    "\n"
   ]
  },
  {
   "cell_type": "code",
   "execution_count": null,
   "metadata": {
    "collapsed": true
   },
   "outputs": [],
   "source": []
  },
  {
   "cell_type": "code",
   "execution_count": null,
   "metadata": {
    "collapsed": true
   },
   "outputs": [],
   "source": []
  },
  {
   "cell_type": "code",
   "execution_count": null,
   "metadata": {
    "collapsed": true
   },
   "outputs": [],
   "source": []
  }
 ],
 "metadata": {
  "kernelspec": {
   "display_name": "Python 3",
   "language": "python",
   "name": "python3"
  },
  "language_info": {
   "codemirror_mode": {
    "name": "ipython",
    "version": 3
   },
   "file_extension": ".py",
   "mimetype": "text/x-python",
   "name": "python",
   "nbconvert_exporter": "python",
   "pygments_lexer": "ipython3",
   "version": "3.6.3"
  }
 },
 "nbformat": 4,
 "nbformat_minor": 2
}
