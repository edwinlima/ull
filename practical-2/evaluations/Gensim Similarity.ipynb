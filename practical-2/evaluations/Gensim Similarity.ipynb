{
 "cells": [
  {
   "cell_type": "code",
   "execution_count": 1,
   "metadata": {
    "collapsed": true
   },
   "outputs": [],
   "source": [
    "\n",
    "import sys\n",
    "import numpy as np\n",
    "# add gensim source code fro this path\n",
    "#sys.path.insert(0, \"../../../\")\n",
    "\n",
    "# import modules & set up logging\n",
    "import gensim, logging\n",
    "\n",
    "logging.basicConfig(format='%(asctime)s : %(levelname)s : %(message)s', level=logging.INFO)\n",
    "                \n",
    "                "
   ]
  },
  {
   "cell_type": "markdown",
   "metadata": {},
   "source": [
    "## Load the embeddings learned "
   ]
  },
  {
   "cell_type": "code",
   "execution_count": null,
   "metadata": {
    "collapsed": true
   },
   "outputs": [],
   "source": []
  },
  {
   "cell_type": "code",
   "execution_count": 74,
   "metadata": {
    "collapsed": true
   },
   "outputs": [],
   "source": [
    "#embeddings_file=\"embeddings_full100_100_final.txt\"\n",
    "embeddings_file=\"../output/embeddings_final_40_100_bsg.txt\"\n",
    "#embeddings_file=\"../../ull_ed/practical-2/embeddings_final_50_100_hansards_bsg.txt\"\n",
    "#embeddings_file=\"../../ull_ed/practical-2/embeddings_vocab_1613_ep_50_100_hid_100_test_bsg.txt\"\n",
    "embeddings_file=\"../output/embeddings_vocab_1613_ep_20_100_hid_100_test_bsg.txt\"\n",
    "embeddings_file=\"../output/embeddings_vocab_1601_ep_40_emb_100_hid_100_1600_test_bsg_good_with_common.txt\"\n",
    "embeddings_file=\"../output/embeddings_vocab_1551_ep_10_emb_100_hid_100_1550_test_bsg.txt\"\n",
    "embeddings_file=\"../output/embeddings_vocab_1613_ep_20_100_hid_100_test_bsg.txt\"\n",
    "embeddings_file=\"../output/embeddings_vocab_1601_ep_2_emb_100_hid_100_1600_test_bsg.txt\"\n",
    "embeddings_file=\"../output/embeddings_vocab_1601_ep_40_emb_100_hid_100_1600_test_bsg_good_with_common.txt\"\n",
    "embeddings_file=\"../output/embeddings_vocab_1601_ep_30_emb_100_hid_100_1600_test_bsg.txt\"\n",
    "\n",
    "embeddings_file=\"../output/embeddings_vocab_1551_ep_30_emb_100_hid_100_1550_test_bsg.txt\"\n",
    "embeddings_file=\"../output/embeddings_vocab_1501_ep_30_emb_100_hid_100_10_1500_test_bsg.txt\"\n",
    "\n",
    "\n",
    "\n",
    "\n",
    "#embeddings_file=\"../output/embeddings_vocab_1401_ep_40_emb_100_hid_100_1400_test_bsg.txt\"\n",
    "#embeddings_file=\"../output/embeddings_vocab_1401_ep_2_emb_100_hid_100_1400_test_bsg.txt\"\n",
    "\n",
    "from gensim.models import KeyedVectors\n",
    "#word_vectors = KeyedVectors.load_word2vec_format('../../../ULL/data/bow2.words.bz2', binary=False)  # C text format\n",
    "word_vectors = KeyedVectors.load_word2vec_format(embeddings_file, binary=False)  # C binary format"
   ]
  },
  {
   "cell_type": "code",
   "execution_count": 75,
   "metadata": {},
   "outputs": [
    {
     "data": {
      "text/plain": [
       "<gensim.models.keyedvectors.Word2VecKeyedVectors at 0x1a1ddbcb70>"
      ]
     },
     "execution_count": 75,
     "metadata": {},
     "output_type": "execute_result"
    }
   ],
   "source": [
    "word_vectors\n"
   ]
  },
  {
   "cell_type": "code",
   "execution_count": 76,
   "metadata": {},
   "outputs": [
    {
     "name": "stdout",
     "output_type": "stream",
     "text": [
      "-0.1315708823422183\n"
     ]
    }
   ],
   "source": [
    "print(word_vectors.similarity('message', 'issue'))\n"
   ]
  },
  {
   "cell_type": "markdown",
   "metadata": {},
   "source": [
    "## Calculate similarity"
   ]
  },
  {
   "cell_type": "code",
   "execution_count": 77,
   "metadata": {},
   "outputs": [
    {
     "name": "stdout",
     "output_type": "stream",
     "text": [
      "-0.05642861832929086\n"
     ]
    }
   ],
   "source": [
    "print(word_vectors.similarity('disturbed', 'pervasive'))\n"
   ]
  },
  {
   "cell_type": "code",
   "execution_count": 78,
   "metadata": {},
   "outputs": [
    {
     "data": {
      "text/plain": [
       "((-0.2073170947604932, 0.3200406710648197),\n",
       " SpearmanrResult(correlation=-0.2653846153846154, pvalue=0.1997981662941645),\n",
       " 92.91784702549575)"
      ]
     },
     "execution_count": 78,
     "metadata": {},
     "output_type": "execute_result"
    }
   ],
   "source": [
    "word_vectors.evaluate_word_pairs(\"../../../gensim/gensim/test/test_data/wordsim353.tsv\")\n"
   ]
  },
  {
   "cell_type": "code",
   "execution_count": null,
   "metadata": {
    "collapsed": true
   },
   "outputs": [],
   "source": []
  },
  {
   "cell_type": "code",
   "execution_count": null,
   "metadata": {
    "collapsed": true
   },
   "outputs": [],
   "source": []
  },
  {
   "cell_type": "code",
   "execution_count": null,
   "metadata": {
    "collapsed": true
   },
   "outputs": [],
   "source": []
  }
 ],
 "metadata": {
  "kernelspec": {
   "display_name": "Python 3",
   "language": "python",
   "name": "python3"
  },
  "language_info": {
   "codemirror_mode": {
    "name": "ipython",
    "version": 3
   },
   "file_extension": ".py",
   "mimetype": "text/x-python",
   "name": "python",
   "nbconvert_exporter": "python",
   "pygments_lexer": "ipython3",
   "version": "3.5.3"
  }
 },
 "nbformat": 4,
 "nbformat_minor": 2
}
